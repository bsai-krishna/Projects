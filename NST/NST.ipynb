{
 "cells": [
  {
   "cell_type": "code",
   "execution_count": 1,
   "metadata": {
    "colab": {},
    "colab_type": "code",
    "id": "IjFmmAEGS7E1"
   },
   "outputs": [
    {
     "ename": "AttributeError",
     "evalue": "module 'tensorflow' has no attribute 'enable_eager_execution'",
     "output_type": "error",
     "traceback": [
      "\u001b[1;31m---------------------------------------------------------------------------\u001b[0m",
      "\u001b[1;31mAttributeError\u001b[0m                            Traceback (most recent call last)",
      "\u001b[1;32m<ipython-input-1-6e6ed5697944>\u001b[0m in \u001b[0;36m<module>\u001b[1;34m\u001b[0m\n\u001b[0;32m      1\u001b[0m \u001b[1;32mimport\u001b[0m \u001b[0mtensorflow\u001b[0m \u001b[1;32mas\u001b[0m \u001b[0mtf\u001b[0m\u001b[1;33m\u001b[0m\u001b[1;33m\u001b[0m\u001b[0m\n\u001b[1;32m----> 2\u001b[1;33m \u001b[0mtf\u001b[0m\u001b[1;33m.\u001b[0m\u001b[0menable_eager_execution\u001b[0m\u001b[1;33m(\u001b[0m\u001b[1;33m)\u001b[0m\u001b[1;33m\u001b[0m\u001b[1;33m\u001b[0m\u001b[0m\n\u001b[0m\u001b[0;32m      3\u001b[0m \u001b[1;33m\u001b[0m\u001b[0m\n\u001b[0;32m      4\u001b[0m \u001b[1;32mfrom\u001b[0m \u001b[0mtensorflow\u001b[0m\u001b[1;33m.\u001b[0m\u001b[0mpython\u001b[0m\u001b[1;33m.\u001b[0m\u001b[0mkeras\u001b[0m\u001b[1;33m.\u001b[0m\u001b[0mapplications\u001b[0m\u001b[1;33m.\u001b[0m\u001b[0mvgg19\u001b[0m \u001b[1;32mimport\u001b[0m \u001b[0mVGG19\u001b[0m\u001b[1;33m\u001b[0m\u001b[1;33m\u001b[0m\u001b[0m\n",
      "\u001b[1;31mAttributeError\u001b[0m: module 'tensorflow' has no attribute 'enable_eager_execution'"
     ]
    }
   ],
   "source": [
    "import tensorflow as tf\n",
    "tf.enable_eager_execution()\n",
    "\n",
    "from tensorflow.python.keras.applications.vgg19 import VGG19"
   ]
  },
  {
   "cell_type": "code",
   "execution_count": null,
   "metadata": {
    "colab": {
     "base_uri": "https://localhost:8080/",
     "height": 989
    },
    "colab_type": "code",
    "executionInfo": {
     "elapsed": 16263,
     "status": "ok",
     "timestamp": 1549898946061,
     "user": {
      "displayName": "Amit Yadav",
      "photoUrl": "https://lh4.googleusercontent.com/-rXq4skjT-fc/AAAAAAAAAAI/AAAAAAAAANQ/gq1RdNEQhwo/s64/photo.jpg",
      "userId": "08105436422142894875"
     },
     "user_tz": -330
    },
    "id": "t1xIw7lcS7E4",
    "outputId": "1fdf3c98-54c5-4e31-83c7-cbe94067d931"
   },
   "outputs": [],
   "source": [
    "model = VGG19(\n",
    "    include_top = False,\n",
    "    weights = 'imagenet'\n",
    ")\n",
    "\n",
    "model.trainable = False\n",
    "model.summary()"
   ]
  },
  {
   "cell_type": "code",
   "execution_count": null,
   "metadata": {
    "colab": {},
    "colab_type": "code",
    "id": "Bwee9e8_S7E_"
   },
   "outputs": [],
   "source": [
    "from tensorflow.python.keras.preprocessing.image import load_img, img_to_array\n",
    "from tensorflow.python.keras.applications.vgg19 import preprocess_input\n",
    "from tensorflow.python.keras.models import Model\n",
    "from tensorflow.python.keras import backend as K\n",
    "\n",
    "import numpy as np\n",
    "import matplotlib.pyplot as plt\n",
    "%matplotlib inline"
   ]
  },
  {
   "cell_type": "code",
   "execution_count": null,
   "metadata": {
    "colab": {},
    "colab_type": "code",
    "id": "5vJojbKNS7FC"
   },
   "outputs": [],
   "source": [
    "def load_and_process_image(image_path):\n",
    "    img = load_img(image_path)\n",
    "    img = img_to_array(img)\n",
    "    img = preprocess_input(img)\n",
    "    img = np.expand_dims(img, axis = 0)\n",
    "    return img"
   ]
  },
  {
   "cell_type": "code",
   "execution_count": null,
   "metadata": {
    "colab": {},
    "colab_type": "code",
    "id": "7Dlz472kS7FE"
   },
   "outputs": [],
   "source": [
    "def deprocess(x):\n",
    "    # perform the inverse of the preprocessiing step\n",
    "    x[:, :, 0] += 103.939\n",
    "    x[:, :, 1] += 116.779\n",
    "    x[:, :, 2] += 123.68\n",
    "    x = x[:, :, ::-1]\n",
    "\n",
    "    x = np.clip(x, 0, 255).astype('uint8')\n",
    "    return x\n",
    "\n",
    "def display_image(image):\n",
    "    if len(image.shape) == 4:\n",
    "        img = np.squeeze(image, axis = 0)\n",
    "\n",
    "    img = deprocess(img)\n",
    "    \n",
    "    plt.grid(False)\n",
    "    plt.xticks([])\n",
    "    plt.yticks([])\n",
    "    plt.imshow(img)\n",
    "    return"
   ]
  },
  {
   "cell_type": "code",
   "execution_count": null,
   "metadata": {
    "colab": {
     "base_uri": "https://localhost:8080/",
     "height": 248
    },
    "colab_type": "code",
    "executionInfo": {
     "elapsed": 2001,
     "status": "ok",
     "timestamp": 1549899098025,
     "user": {
      "displayName": "Amit Yadav",
      "photoUrl": "https://lh4.googleusercontent.com/-rXq4skjT-fc/AAAAAAAAAAI/AAAAAAAAANQ/gq1RdNEQhwo/s64/photo.jpg",
      "userId": "08105436422142894875"
     },
     "user_tz": -330
    },
    "id": "4p3PgOlkS7FI",
    "outputId": "b54edac3-9752-43b8-b9f3-af116547002a"
   },
   "outputs": [],
   "source": [
    "img = load_and_process_image('style.jpg')\n",
    "display_image(img)"
   ]
  },
  {
   "cell_type": "code",
   "execution_count": null,
   "metadata": {
    "colab": {
     "base_uri": "https://localhost:8080/",
     "height": 248
    },
    "colab_type": "code",
    "executionInfo": {
     "elapsed": 1531,
     "status": "ok",
     "timestamp": 1549899105334,
     "user": {
      "displayName": "Amit Yadav",
      "photoUrl": "https://lh4.googleusercontent.com/-rXq4skjT-fc/AAAAAAAAAAI/AAAAAAAAANQ/gq1RdNEQhwo/s64/photo.jpg",
      "userId": "08105436422142894875"
     },
     "user_tz": -330
    },
    "id": "VkgmgrrlS7FK",
    "outputId": "f4daf8e8-bf2a-426d-f585-9163dd055595"
   },
   "outputs": [],
   "source": [
    "img = load_and_process_image('content.jpg')\n",
    "display_image(img)"
   ]
  },
  {
   "cell_type": "code",
   "execution_count": null,
   "metadata": {
    "colab": {},
    "colab_type": "code",
    "id": "rfCOKVyLS7FN"
   },
   "outputs": [],
   "source": [
    "style_layers = [\n",
    "    'block1_conv1', \n",
    "    'block3_conv1', \n",
    "    'block5_conv1'\n",
    "]\n",
    "\n",
    "content_layer = 'block5_conv2'\n",
    "\n",
    "# intermediate models\n",
    "content_model = Model(\n",
    "    inputs = model.input, \n",
    "    outputs = model.get_layer(content_layer).output\n",
    ")\n",
    "\n",
    "style_models = [Model(inputs = model.input, \n",
    "                      outputs = model.get_layer(layer).output) for layer in style_layers]"
   ]
  },
  {
   "cell_type": "code",
   "execution_count": null,
   "metadata": {
    "colab": {},
    "colab_type": "code",
    "id": "joIHQxxPS7FP"
   },
   "outputs": [],
   "source": [
    "# Content Cost\n",
    "def content_cost(content, generated):\n",
    "    a_C = content_model(content)\n",
    "    a_G = content_model(generated)\n",
    "    cost = tf.reduce_mean(tf.square(a_C - a_G))\n",
    "    return cost"
   ]
  },
  {
   "cell_type": "code",
   "execution_count": null,
   "metadata": {
    "colab": {},
    "colab_type": "code",
    "id": "nCGDHH5sS7FV"
   },
   "outputs": [],
   "source": [
    "def gram_matrix(A):\n",
    "    channels = int(A.shape[-1])\n",
    "    a = tf.reshape(A, [-1, channels])\n",
    "    n = tf.shape(a)[0]\n",
    "    gram = tf.matmul(a, a, transpose_a = True)\n",
    "    return gram / tf.cast(n, tf.float32)"
   ]
  },
  {
   "cell_type": "code",
   "execution_count": null,
   "metadata": {
    "colab": {},
    "colab_type": "code",
    "id": "wrF39dDrS7Fa"
   },
   "outputs": [],
   "source": [
    "lam = 1. / len(style_models)\n",
    "\n",
    "def style_cost(style, generated):\n",
    "    J_style = 0\n",
    "    \n",
    "    for style_model in style_models:\n",
    "        a_S = style_model(style)\n",
    "        a_G = style_model(generated)\n",
    "        GS = gram_matrix(a_S)\n",
    "        GG = gram_matrix(a_G)\n",
    "        current_cost = tf.reduce_mean(tf.square(GS - GG))\n",
    "        J_style += current_cost * lam\n",
    "    \n",
    "    return J_style"
   ]
  },
  {
   "cell_type": "code",
   "execution_count": null,
   "metadata": {
    "colab": {},
    "colab_type": "code",
    "id": "mj48u8udS7Fd"
   },
   "outputs": [],
   "source": [
    "import time\n",
    "\n",
    "generated_images = []\n",
    "\n",
    "def training_loop(content_path, style_path, iterations = 20, a = 10., b = 20.):\n",
    "    # initialise\n",
    "    content = load_and_process_image(content_path)\n",
    "    style = load_and_process_image(style_path)\n",
    "    generated = tf.contrib.eager.Variable(content, dtype = tf.float32)\n",
    "    \n",
    "    opt = tf.train.AdamOptimizer(learning_rate = 7.)\n",
    "    \n",
    "    best_cost = 1e12+0.1\n",
    "    best_image = None\n",
    "    \n",
    "    start_time = time.time()\n",
    "    \n",
    "    for i in range(iterations):\n",
    "        \n",
    "        with tf.GradientTape() as tape:\n",
    "            J_content = content_cost(content, generated)\n",
    "            J_style = style_cost(style, generated)\n",
    "            J_total = a * J_content + b * J_style\n",
    "        \n",
    "        grads = tape.gradient(J_total, generated)\n",
    "        opt.apply_gradients([(grads, generated)])\n",
    "        \n",
    "        if J_total < best_cost:\n",
    "            best_cost = J_total\n",
    "            best_image = generated.numpy()\n",
    "        \n",
    "        if i % int(iterations/10) == 0:\n",
    "            time_taken = time.time() - start_time\n",
    "            print('Cost at {}: {}. Time elapsed: {}'.format(i, J_total, time_taken))\n",
    "            generated_images.append(generated.numpy())\n",
    "        \n",
    "    return best_image"
   ]
  },
  {
   "cell_type": "code",
   "execution_count": null,
   "metadata": {
    "colab": {
     "base_uri": "https://localhost:8080/",
     "height": 187
    },
    "colab_type": "code",
    "executionInfo": {
     "elapsed": 67804,
     "status": "ok",
     "timestamp": 1549899719580,
     "user": {
      "displayName": "Amit Yadav",
      "photoUrl": "https://lh4.googleusercontent.com/-rXq4skjT-fc/AAAAAAAAAAI/AAAAAAAAANQ/gq1RdNEQhwo/s64/photo.jpg",
      "userId": "08105436422142894875"
     },
     "user_tz": -330
    },
    "id": "DVVskySYS7Ff",
    "outputId": "06306a20-30af-4f54-bd0c-5fa6bd34939d"
   },
   "outputs": [],
   "source": [
    "final = training_loop('content.jpg','style.jpg')"
   ]
  },
  {
   "cell_type": "code",
   "execution_count": null,
   "metadata": {
    "colab": {
     "base_uri": "https://localhost:8080/",
     "height": 683
    },
    "colab_type": "code",
    "executionInfo": {
     "elapsed": 4347,
     "status": "ok",
     "timestamp": 1549899726355,
     "user": {
      "displayName": "Amit Yadav",
      "photoUrl": "https://lh4.googleusercontent.com/-rXq4skjT-fc/AAAAAAAAAAI/AAAAAAAAANQ/gq1RdNEQhwo/s64/photo.jpg",
      "userId": "08105436422142894875"
     },
     "user_tz": -330
    },
    "id": "SPVHVBOwS7Fj",
    "outputId": "900d5687-117c-48dc-d4db-d702d60b03ce"
   },
   "outputs": [],
   "source": [
    "plt.figure(figsize = (12, 12))\n",
    "\n",
    "for i in range(10):\n",
    "    plt.subplot(5, 2, i + 1)\n",
    "    display_image(generated_images[i])\n",
    "plt.show()"
   ]
  },
  {
   "cell_type": "code",
   "execution_count": null,
   "metadata": {
    "colab": {
     "base_uri": "https://localhost:8080/",
     "height": 248
    },
    "colab_type": "code",
    "executionInfo": {
     "elapsed": 1839,
     "status": "ok",
     "timestamp": 1549899731103,
     "user": {
      "displayName": "Amit Yadav",
      "photoUrl": "https://lh4.googleusercontent.com/-rXq4skjT-fc/AAAAAAAAAAI/AAAAAAAAANQ/gq1RdNEQhwo/s64/photo.jpg",
      "userId": "08105436422142894875"
     },
     "user_tz": -330
    },
    "id": "jzQH4cpBS7Fo",
    "outputId": "d973e52c-5ec0-4c95-f778-5a77dc2e9a54"
   },
   "outputs": [],
   "source": [
    "display_image(final)"
   ]
  },
  {
   "cell_type": "code",
   "execution_count": null,
   "metadata": {
    "colab": {},
    "colab_type": "code",
    "id": "4Mfuz_yF5709"
   },
   "outputs": [],
   "source": []
  }
 ],
 "metadata": {
  "accelerator": "GPU",
  "colab": {
   "collapsed_sections": [],
   "name": "NST.ipynb",
   "provenance": [],
   "version": "0.3.2"
  },
  "kernelspec": {
   "display_name": "Python 3",
   "language": "python",
   "name": "python3"
  },
  "language_info": {
   "codemirror_mode": {
    "name": "ipython",
    "version": 3
   },
   "file_extension": ".py",
   "mimetype": "text/x-python",
   "name": "python",
   "nbconvert_exporter": "python",
   "pygments_lexer": "ipython3",
   "version": "3.6.8"
  }
 },
 "nbformat": 4,
 "nbformat_minor": 1
}
